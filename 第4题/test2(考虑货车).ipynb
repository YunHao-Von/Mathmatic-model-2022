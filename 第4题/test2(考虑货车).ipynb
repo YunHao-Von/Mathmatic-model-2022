{
 "cells": [
  {
   "cell_type": "code",
   "execution_count": null,
   "metadata": {},
   "outputs": [],
   "source": [
    "from Solution import *\n",
    "solve = Solution()\n",
    "G = solve.build_graph()"
   ]
  },
  {
   "cell_type": "code",
   "execution_count": null,
   "metadata": {},
   "outputs": [],
   "source": [
    "import pandas as pd\n",
    "data = pd.read_csv('TempResult\\社区路口连接数据.csv')\n",
    "intersection = list(set(data['最近路口节点']))\n",
    "community = pd.read_excel('Data\\community.xlsx')\n",
    "demand = (community['小区人口数（人）']*0.4).tolist()"
   ]
  },
  {
   "cell_type": "code",
   "execution_count": null,
   "metadata": {},
   "outputs": [],
   "source": [
    "distance = list()\n",
    "for i in range(len(intersection)):\n",
    "    start = intersection[i]\n",
    "    shortest_distance_dict = nx.shortest_path_length(G, source='i'+str(start),weight='weight')\n",
    "    distance.append([shortest_distance_dict['c'+ str(i)] for i in range(1,1410)])\n",
    "distance = np.array(distance)"
   ]
  },
  {
   "cell_type": "code",
   "execution_count": null,
   "metadata": {},
   "outputs": [],
   "source": [
    "import gurobipy as gb\n",
    "intersection_length=len(intersection)\n",
    "community_length=1409\n",
    "model=gb.Model()\n",
    "Q = model.addVars(intersection_length,community_length,lb=0.0,ub=40000,vtype=gb.GRB.CONTINUOUS, name='Q')  # 添加变量\n",
    "R = model.addVars(intersection_length,vtype=gb.GRB.BINARY,name='R')  # 添加变量\n",
    "B = model.addVars(intersection_length,vtype=gb.GRB.INTEGER,name='B',lb=0,ub=4)\n",
    "L = model.addVars(intersection_length,vtype=gb.GRB.INTEGER,name='L',lb=0,ub=10)\n",
    "print(\"变量添加完毕\")\n",
    "model.addConstrs(\n",
    "    gb.quicksum(Q[k,l]*R[k] for k in range(intersection_length)) == demand[l] for l in range(community_length)\n",
    ")\n",
    "print('约束1添加完毕')\n",
    "model.addConstrs(\n",
    "    gb.quicksum(Q[k,l] for l in range(community_length)) <= 40000 for k in range(intersection_length)\n",
    ")\n",
    "print(\"约束2添加完毕\")\n",
    "model.addConstr(\n",
    "    gb.quicksum(R[k] for k in range(intersection_length)) <= 71\n",
    ")\n",
    "print(\"约束3添加完毕\")\n",
    "model.addConstrs(\n",
    "    B[k]*10000 + L[k]*4000 - gb.quicksum(Q[k,l] for l in range(community_length)) >= 0 for k in range(intersection_length)\n",
    ")\n",
    "print(\"约束4添加完毕\")"
   ]
  },
  {
   "cell_type": "code",
   "execution_count": null,
   "metadata": {},
   "outputs": [],
   "source": [
    "\n",
    "model.setObjective(\n",
    "    gb.quicksum(\n",
    "        Q[k,l] * distance[k,l] * R[k] for l in range(community_length) for k in range(intersection_length)\n",
    "    ) + 2*gb.quicksum(\n",
    "        R[k]*B[k] for k in range(intersection_length)\n",
    "        ) + gb.quicksum(R[k]*L[k] for k in range(intersection_length)), gb.GRB.MINIMIZE\n",
    ")  # 添加目标函数\n",
    "print(\"目标函数设置完毕\")"
   ]
  },
  {
   "cell_type": "code",
   "execution_count": null,
   "metadata": {},
   "outputs": [],
   "source": [
    "model.Params.TimeLimit=3600\n",
    "model.optimize()"
   ]
  },
  {
   "cell_type": "code",
   "execution_count": null,
   "metadata": {},
   "outputs": [],
   "source": [
    "intersection_node = list()\n",
    "intersection_x = list()\n",
    "intersection_y = list()\n",
    "for i in range(len(intersection)):\n",
    "    if round(R[i].X) != 0:\n",
    "        intersection_node.append(intersection[i])"
   ]
  },
  {
   "cell_type": "code",
   "execution_count": null,
   "metadata": {},
   "outputs": [],
   "source": [
    "res = pd.DataFrame({'intersection_node':intersection_node})\n",
    "res.to_csv('有货车.csv',index=False)"
   ]
  },
  {
   "cell_type": "code",
   "execution_count": null,
   "metadata": {},
   "outputs": [],
   "source": [
    "old_data = pd.read_excel('Data\\intersection_node.xlsx')\n",
    "intersection_node = pd.read_csv('有货车.csv')['intersection_node']\n",
    "intersection_node = pd.merge(intersection_node,old_data,left_on='intersection_node',right_on='节点编号',\n",
    "                             how='left')[['节点编号','路口横坐标','路口纵坐标']]\n",
    "areas = pd.read_csv('TempResult\\社区路口连接数据.csv')\n",
    "intersection_node = pd.merge(intersection_node,areas,left_on='节点编号',right_on='最近路口节点',how='left')\n",
    "intersection_node = intersection_node[['节点编号','路口横坐标','路口纵坐标','所属区域']]\n",
    "intersection_node.drop_duplicates(subset=['节点编号'], keep='first', inplace=True)\n",
    "intersection_node.reset_index(drop=True, inplace=True)\n",
    "intersection_node.to_csv('有货车结果(集散中心).csv',index=False)\n",
    "intersection_node.to_excel('有货车结果(集散中心).xlsx',index=False)"
   ]
  },
  {
   "cell_type": "code",
   "execution_count": null,
   "metadata": {},
   "outputs": [],
   "source": [
    "groups = intersection_node.groupby(['所属区域'])\n",
    "areas=list()\n",
    "center_x = list()\n",
    "center_y = list()\n",
    "for i in groups:\n",
    "    ar,group_data = i\n",
    "    areas.append(ar)\n",
    "    center_x.append(group_data['路口横坐标'].mean())\n",
    "    center_y.append(group_data['路口纵坐标'].mean())\n",
    "cangku = pd.DataFrame({\n",
    "    '节点编号':[i+1 for i in range(len(areas))],\n",
    "    '区域':areas,\n",
    "    '仓库中心横坐标':center_x,\n",
    "    '仓库中心纵坐标':center_y\n",
    "})\n",
    "cangku.to_csv('有货车结果(仓库).csv',index=False)\n",
    "cangku.to_excel('有货车结果(仓库).xlsx',index=False)"
   ]
  },
  {
   "cell_type": "code",
   "execution_count": null,
   "metadata": {},
   "outputs": [],
   "source": [
    "from Solution import *\n",
    "solve = Solution() \n",
    "solve.draw_solution_car()"
   ]
  }
 ],
 "metadata": {
  "kernelspec": {
   "display_name": "Python 3.8.3 ('base')",
   "language": "python",
   "name": "python3"
  },
  "language_info": {
   "codemirror_mode": {
    "name": "ipython",
    "version": 3
   },
   "file_extension": ".py",
   "mimetype": "text/x-python",
   "name": "python",
   "nbconvert_exporter": "python",
   "pygments_lexer": "ipython3",
   "version": "3.8.3"
  },
  "orig_nbformat": 4,
  "vscode": {
   "interpreter": {
    "hash": "d12a6980af1de3549060b7b451d48d445ec6b4aaeaf0b0e12a509d2182e95745"
   }
  }
 },
 "nbformat": 4,
 "nbformat_minor": 2
}
