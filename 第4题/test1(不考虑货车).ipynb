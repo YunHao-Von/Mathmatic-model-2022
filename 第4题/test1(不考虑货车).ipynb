{
 "cells": [
  {
   "cell_type": "code",
   "execution_count": 1,
   "metadata": {},
   "outputs": [],
   "source": [
    "from Solution import *\n",
    "solve = Solution()\n",
    "G = solve.build_graph()"
   ]
  },
  {
   "cell_type": "code",
   "execution_count": 2,
   "metadata": {},
   "outputs": [],
   "source": [
    "import pandas as pd\n",
    "data = pd.read_csv('TempResult\\社区路口连接数据.csv')\n",
    "intersection = list(set(data['最近路口节点']))\n",
    "community = pd.read_excel('Data\\community.xlsx')\n",
    "demand = (community['小区人口数（人）']*0.4).tolist()"
   ]
  },
  {
   "cell_type": "code",
   "execution_count": 3,
   "metadata": {},
   "outputs": [],
   "source": [
    "distance = list()\n",
    "for i in range(len(intersection)):\n",
    "    start = intersection[i]\n",
    "    shortest_distance_dict = nx.shortest_path_length(G, source='i'+str(start),weight='weight')\n",
    "    distance.append([shortest_distance_dict['c'+ str(i)] for i in range(1,1410)])\n",
    "distance = np.array(distance)"
   ]
  },
  {
   "cell_type": "code",
   "execution_count": 4,
   "metadata": {},
   "outputs": [
    {
     "name": "stdout",
     "output_type": "stream",
     "text": [
      "变量添加完毕\n",
      "约束1添加完毕\n",
      "约束2添加完毕\n"
     ]
    },
    {
     "data": {
      "text/plain": [
       "<gurobi.Constr *Awaiting Model Update*>"
      ]
     },
     "execution_count": 4,
     "metadata": {},
     "output_type": "execute_result"
    }
   ],
   "source": [
    "import gurobipy as gb\n",
    "intersection_length=len(intersection)\n",
    "community_length=1409\n",
    "model=gb.Model()\n",
    "Q = model.addVars(intersection_length,community_length,lb=0.0,ub=40000,vtype=gb.GRB.CONTINUOUS, name='Q')  # 添加变量\n",
    "R = model.addVars(intersection_length,vtype=gb.GRB.BINARY,name='R')\n",
    "print(\"变量添加完毕\")\n",
    "model.addConstrs(\n",
    "    gb.quicksum(Q[k,l]*R[k] for k in range(intersection_length)) == demand[l] for l in range(community_length)\n",
    ")\n",
    "print('约束1添加完毕')\n",
    "model.addConstrs(\n",
    "    gb.quicksum(Q[k,l] for l in range(community_length)) <= 40000 for k in range(intersection_length)\n",
    ")\n",
    "print(\"约束2添加完毕\")\n",
    "model.addConstr(\n",
    "    gb.quicksum(R[k] for k in range(intersection_length)) <= 71\n",
    ")\n"
   ]
  },
  {
   "cell_type": "code",
   "execution_count": 5,
   "metadata": {},
   "outputs": [
    {
     "name": "stdout",
     "output_type": "stream",
     "text": [
      "目标函数设置完毕\n"
     ]
    }
   ],
   "source": [
    "\n",
    "model.setObjective(\n",
    "    gb.quicksum(\n",
    "        Q[k,l] * distance[k,l] * R[k] for l in range(community_length) for k in range(intersection_length)\n",
    "    ), gb.GRB.MINIMIZE\n",
    ")  # 添加目标函数\n",
    "print(\"目标函数设置完毕\")"
   ]
  },
  {
   "cell_type": "code",
   "execution_count": 6,
   "metadata": {},
   "outputs": [
    {
     "name": "stdout",
     "output_type": "stream",
     "text": [
      "Set parameter TimeLimit to value 3600\n",
      "Gurobi Optimizer version 9.5.2 build v9.5.2rc0 (win64)\n",
      "Thread count: 8 physical cores, 16 logical processors, using up to 16 threads\n",
      "Optimize a model with 1107 rows, 1559460 columns and 1559460 nonzeros\n",
      "Model fingerprint: 0x9b5eb260\n",
      "Model has 1558354 quadratic objective terms\n",
      "Model has 1409 quadratic constraints\n",
      "Variable types: 1558354 continuous, 1106 integer (1106 binary)\n",
      "Coefficient statistics:\n",
      "  Matrix range     [1e+00, 1e+00]\n",
      "  QMatrix range    [1e+00, 1e+00]\n",
      "  Objective range  [0e+00, 0e+00]\n",
      "  QObjective range [4e+00, 6e+04]\n",
      "  Bounds range     [1e+00, 4e+04]\n",
      "  RHS range        [7e+01, 4e+04]\n",
      "  QRHS range       [3e+01, 6e+03]\n",
      "Presolve time: 4.73s\n",
      "Presolved: 4677578 rows, 3117814 columns, 14026292 nonzeros\n",
      "Variable types: 3116708 continuous, 1106 integer (1106 binary)\n",
      "Found heuristic solution: objective 2.691601e+09\n",
      "\n",
      "Deterministic concurrent LP optimizer: primal simplex, dual simplex, and barrier\n",
      "Showing barrier log only...\n",
      "\n",
      "Root barrier log...\n",
      "\n",
      "Ordering time: 0.91s\n",
      "\n",
      "Barrier statistics:\n",
      " Dense cols : 1106\n",
      " AA' NZ     : 6.236e+06\n",
      " Factor NZ  : 1.134e+07 (roughly 1.4 GB of memory)\n",
      " Factor Ops : 9.100e+09 (less than 1 second per iteration)\n",
      " Threads    : 6\n",
      "\n",
      "                  Objective                Residual\n",
      "Iter       Primal          Dual         Primal    Dual     Compl     Time\n",
      "   0   1.72810794e+13 -1.32285599e+11  2.72e+05 2.10e+05  4.42e+07    33s\n",
      "   1   1.69281035e+13 -5.60228290e+11  2.67e+05 5.57e+04  3.11e+07    34s\n",
      "   2   6.66298298e+10 -7.78360169e+11  7.61e+02 2.36e+04  3.15e+05    35s\n",
      "   3   1.24130649e+10 -3.12883069e+11  1.58e+01 8.60e+03  8.76e+04    36s\n",
      "   4   1.08597042e+10 -1.91605683e+11  2.32e+00 5.52e+03  5.41e+04    37s\n",
      "   5   1.00644785e+10 -1.42853575e+11  8.64e-01 4.13e+03  4.07e+04    38s\n",
      "   6   9.46839716e+09 -8.54600461e+10  5.02e-01 3.29e+03  2.50e+04    39s\n",
      "   7   8.83697862e+09 -6.11220469e+10  3.48e-01 2.23e+03  1.85e+04    40s\n",
      "   8   8.58303377e+09 -5.55863490e+10  3.15e-01 1.66e+03  1.69e+04    41s\n",
      "   9   8.21629318e+09 -4.81197947e+10  2.73e-01 1.45e+03  1.48e+04    41s\n",
      "  10   7.72754829e+09 -2.97031113e+10  2.28e-01 1.04e+03  9.70e+03    42s\n",
      "  11   7.53667561e+09 -2.66104411e+10  2.14e-01 7.85e+02  8.82e+03    43s\n",
      "  12   5.82868250e+09 -1.27889435e+10  1.05e-01 4.85e+02  4.80e+03    45s\n",
      "  13   5.04242097e+09 -8.24703888e+09  8.19e-02 2.96e+02  3.41e+03    46s\n",
      "  14   4.26764018e+09 -5.41299943e+09  6.07e-02 2.66e+02  2.48e+03    47s\n",
      "  15   3.84780999e+09 -4.28310809e+09  5.08e-02 2.25e+02  2.09e+03    48s\n",
      "  16   3.67710356e+09 -3.68261815e+09  4.69e-02 2.00e+02  1.88e+03    49s\n",
      "  17   3.23055989e+09 -2.49137037e+09  3.72e-02 1.53e+02  1.46e+03    50s\n",
      "  18   2.80904580e+09 -1.29317826e+09  2.84e-02 1.05e+02  1.04e+03    51s\n",
      "  19   2.38022958e+09 -8.16361620e+08  1.99e-02 8.69e+01  8.20e+02    52s\n",
      "  20   2.21152714e+09 -4.97425667e+08  1.67e-02 7.34e+01  6.96e+02    54s\n",
      "  21   2.05682921e+09 -1.96207654e+08  1.37e-02 6.23e+01  5.81e+02    55s\n",
      "  22   1.89089555e+09  1.27600719e+08  1.07e-02 5.01e+01  4.57e+02    57s\n",
      "  23   1.77583143e+09  3.34186493e+08  8.60e-03 4.21e+01  3.75e+02    58s\n",
      "  24   1.70271684e+09  4.20851122e+08  7.35e-03 3.82e+01  3.35e+02    59s\n",
      "  25   1.66645062e+09  4.98458535e+08  6.74e-03 3.47e+01  3.05e+02    61s\n",
      "  26   1.61501763e+09  5.69824753e+08  5.88e-03 3.15e+01  2.74e+02    62s\n",
      "  27   1.56852638e+09  6.16647830e+08  5.15e-03 2.94e+01  2.50e+02    63s\n",
      "  28   1.53241272e+09  6.95929257e+08  4.59e-03 2.59e+01  2.20e+02    65s\n",
      "  29   1.51008546e+09  7.29288330e+08  4.23e-03 2.43e+01  2.06e+02    66s\n",
      "  30   1.46724124e+09  7.92996600e+08  3.56e-03 2.15e+01  1.79e+02    67s\n",
      "  31   1.44354204e+09  8.36976027e+08  3.21e-03 1.96e+01  1.61e+02    69s\n",
      "  32   1.41566617e+09  8.73518176e+08  2.82e-03 1.79e+01  1.45e+02    71s\n",
      "  33   1.38872712e+09  9.03983698e+08  2.45e-03 1.64e+01  1.30e+02    72s\n",
      "  34   1.35983783e+09  9.34578275e+08  2.06e-03 1.50e+01  1.15e+02    74s\n",
      "  35   1.34212746e+09  9.52856274e+08  1.83e-03 1.39e+01  1.06e+02    76s\n",
      "  36   1.33952443e+09  9.62035294e+08  1.80e-03 1.34e+01  1.02e+02    78s\n",
      "  37   1.33066627e+09  9.79152880e+08  1.69e-03 1.24e+01  9.51e+01    80s\n",
      "  38   1.31782442e+09  9.99162585e+08  1.53e-03 1.14e+01  8.64e+01    81s\n",
      "  39   1.29963420e+09  1.01610831e+09  1.32e-03 1.05e+01  7.75e+01    83s\n",
      "  40   1.29071172e+09  1.04016139e+09  1.23e-03 9.07e+00  6.82e+01    84s\n",
      "  41   1.27172915e+09  1.05004941e+09  1.02e-03 8.47e+00  6.10e+01    86s\n",
      "  42   1.26843438e+09  1.05778226e+09  9.89e-04 7.91e+00  5.78e+01    86s\n",
      "  43   1.26218504e+09  1.06189414e+09  9.30e-04 7.65e+00  5.52e+01    88s\n",
      "  44   1.25954280e+09  1.07836377e+09  9.07e-04 6.55e+00  4.93e+01    89s\n",
      "  45   1.24797345e+09  1.08143842e+09  7.98e-04 6.33e+00  4.58e+01    90s\n",
      "  46   1.24113126e+09  1.08770965e+09  7.37e-04 5.87e+00  4.23e+01    92s\n",
      "  47   1.23752240e+09  1.09542789e+09  7.06e-04 5.31e+00  3.90e+01    93s\n",
      "  48   1.23076565e+09  1.09838882e+09  6.47e-04 5.09e+00  3.66e+01    95s\n",
      "  49   1.22502672e+09  1.10196061e+09  5.97e-04 4.82e+00  3.41e+01    97s\n",
      "  50   1.21808435e+09  1.10595121e+09  5.39e-04 4.49e+00  3.13e+01    98s\n",
      "  51   1.21476128e+09  1.10966969e+09  5.11e-04 4.20e+00  2.93e+01   100s\n",
      "  52   1.20856758e+09  1.11212356e+09  4.62e-04 4.01e+00  2.71e+01   101s\n",
      "  53   1.20786447e+09  1.11287022e+09  4.56e-04 3.93e+00  2.67e+01   102s\n",
      "  54   1.20530738e+09  1.11544499e+09  4.36e-04 3.69e+00  2.52e+01   104s\n",
      "  55   1.20119173e+09  1.11779617e+09  4.05e-04 3.47e+00  2.34e+01   105s\n",
      "  56   1.19812468e+09  1.11957915e+09  3.82e-04 3.30e+00  2.21e+01   106s\n",
      "  57   1.19529837e+09  1.12148734e+09  3.62e-04 3.12e+00  2.08e+01   108s\n",
      "  58   1.19236450e+09  1.12293092e+09  3.41e-04 2.97e+00  1.96e+01   109s\n",
      "  59   1.18899615e+09  1.12421716e+09  3.17e-04 2.82e+00  1.84e+01   110s\n",
      "  60   1.18558884e+09  1.12557671e+09  2.93e-04 2.65e+00  1.71e+01   111s\n",
      "  61   1.18343425e+09  1.12713221e+09  2.79e-04 2.45e+00  1.60e+01   112s\n",
      "  62   1.18138807e+09  1.12753500e+09  2.66e-04 2.38e+00  1.53e+01   113s\n",
      "  63   1.18042869e+09  1.12828795e+09  2.59e-04 2.26e+00  1.48e+01   114s\n",
      "  64   1.17850497e+09  1.12898993e+09  2.47e-04 2.16e+00  1.40e+01   115s\n",
      "  65   1.17487583e+09  1.12937373e+09  2.23e-04 2.07e+00  1.30e+01   116s\n",
      "  66   1.17303902e+09  1.13031040e+09  2.12e-04 1.89e+00  1.22e+01   117s\n",
      "  67   1.16998273e+09  1.13057802e+09  1.94e-04 1.82e+00  1.13e+01   118s\n",
      "  68   1.16821151e+09  1.13116169e+09  1.83e-04 1.69e+00  1.06e+01   120s\n",
      "  69   1.16674733e+09  1.13159884e+09  1.74e-04 1.59e+00  1.01e+01   121s\n",
      "  70   1.16517688e+09  1.13181535e+09  1.65e-04 1.54e+00  9.61e+00   122s\n",
      "  71   1.16380378e+09  1.13209278e+09  1.57e-04 1.47e+00  9.15e+00   123s\n",
      "  72   1.16272830e+09  1.13243532e+09  1.51e-04 1.39e+00  8.71e+00   124s\n",
      "  73   1.16111724e+09  1.13292601e+09  1.42e-04 1.26e+00  8.07e+00   125s\n",
      "  74   1.15918690e+09  1.13311681e+09  1.31e-04 1.20e+00  7.51e+00   126s\n",
      "  75   1.15859170e+09  1.13336228e+09  1.28e-04 1.13e+00  7.22e+00   127s\n",
      "  76   1.15630061e+09  1.13354400e+09  1.15e-04 1.07e+00  6.60e+00   128s\n",
      "  77   1.15556110e+09  1.13387975e+09  1.11e-04 9.44e-01  6.17e+00   129s\n",
      "  78   1.15354120e+09  1.13395874e+09  9.99e-05 8.97e-01  5.64e+00   130s\n",
      "  79   1.15198348e+09  1.13415597e+09  9.16e-05 8.23e-01  5.15e+00   130s\n",
      "  80   1.15122099e+09  1.13419486e+09  8.75e-05 7.84e-01  4.92e+00   131s\n",
      "  81   1.15003412e+09  1.13423464e+09  8.12e-05 7.68e-01  4.63e+00   132s\n",
      "  82   1.14852467e+09  1.13433770e+09  7.33e-05 6.66e-01  4.12e+00   133s\n",
      "\n",
      "Barrier performed 82 iterations in 133.02 seconds (110.44 work units)\n",
      "Barrier solve interrupted - model solved by another algorithm\n",
      "\n",
      "Concurrent spin time: 23.55s (can be avoided by choosing Method=3)\n",
      "\n",
      "Solved with dual simplex\n",
      "\n",
      "Root relaxation: objective 1.134309e+09, 29178 iterations, 107.43 seconds (81.68 work units)\n",
      "Total elapsed time = 133.38s\n",
      "\n",
      "    Nodes    |    Current Node    |     Objective Bounds      |     Work\n",
      " Expl Unexpl |  Obj  Depth IntInf | Incumbent    BestBd   Gap | It/Node Time\n",
      "\n",
      "     0     0 1.1343e+09    0   40 2.6916e+09 1.1343e+09  57.9%     -  135s\n",
      "H    0     0                    1.152262e+09 1.1343e+09  1.56%     -  137s\n",
      "H    0     0                    1.151369e+09 1.1343e+09  1.48%     -  141s\n",
      "     0     0 1.1343e+09    0   47 1.1514e+09 1.1343e+09  1.48%     -  145s\n",
      "H    0     0                    1.135572e+09 1.1343e+09  0.11%     -  162s\n",
      "     0     0 1.1343e+09    0   47 1.1356e+09 1.1343e+09  0.11%     -  169s\n",
      "     0     0 1.1343e+09    0   40 1.1356e+09 1.1343e+09  0.11%     -  224s\n",
      "     0     0 1.1343e+09    0   40 1.1356e+09 1.1343e+09  0.11%     -  230s\n",
      "     0     0 1.1343e+09    0   41 1.1356e+09 1.1343e+09  0.11%     -  237s\n",
      "     0     0 1.1343e+09    0   47 1.1356e+09 1.1343e+09  0.11%     -  241s\n",
      "     0     0 1.1343e+09    0   48 1.1356e+09 1.1343e+09  0.11%     -  242s\n",
      "     0     0 1.1344e+09    0   49 1.1356e+09 1.1344e+09  0.11%     -  246s\n",
      "     0     0 1.1344e+09    0   50 1.1356e+09 1.1344e+09  0.11%     -  253s\n",
      "     0     0 1.1344e+09    0   50 1.1356e+09 1.1344e+09  0.10%     -  255s\n",
      "     0     0 1.1344e+09    0   51 1.1356e+09 1.1344e+09  0.10%     -  256s\n",
      "     0     0 1.1344e+09    0   52 1.1356e+09 1.1344e+09  0.10%     -  257s\n",
      "     0     0 1.1344e+09    0   52 1.1356e+09 1.1344e+09  0.10%     -  260s\n",
      "     0     0 1.1344e+09    0   52 1.1356e+09 1.1344e+09  0.10%     -  262s\n",
      "     0     0 1.1344e+09    0   47 1.1356e+09 1.1344e+09  0.10%     -  264s\n",
      "     0     0 1.1344e+09    0   44 1.1356e+09 1.1344e+09  0.10%     -  277s\n",
      "     0     0 1.1344e+09    0   44 1.1356e+09 1.1344e+09  0.10%     -  282s\n",
      "     0     2 1.1344e+09    0   44 1.1356e+09 1.1344e+09  0.10%     -  299s\n",
      "     1     5 1.1348e+09    1   47 1.1356e+09 1.1345e+09  0.10%   125  301s\n",
      "    11     8 1.1351e+09    4   17 1.1356e+09 1.1348e+09  0.06%   179  306s\n",
      "    23    11 1.1352e+09    6    6 1.1356e+09 1.1350e+09  0.05%   162  310s\n",
      "*   35    10               7    1.135296e+09 1.1352e+09  0.01%   132  312s\n",
      "\n",
      "Cutting planes:\n",
      "  Gomory: 1\n",
      "  Lift-and-project: 1\n",
      "  MIR: 5\n",
      "\n",
      "Explored 44 nodes (50687 simplex iterations) in 313.47 seconds (315.75 work units)\n",
      "Thread count was 16 (of 16 available processors)\n",
      "\n",
      "Solution count 5: 1.1353e+09 1.13557e+09 1.15137e+09 ... 2.6916e+09\n",
      "\n",
      "Optimal solution found (tolerance 1.00e-04)\n",
      "Best objective 1.135296246576e+09, best bound 1.135296246576e+09, gap 0.0000%\n"
     ]
    }
   ],
   "source": [
    "model.Params.TimeLimit=3600\n",
    "model.optimize()"
   ]
  },
  {
   "cell_type": "code",
   "execution_count": 7,
   "metadata": {},
   "outputs": [],
   "source": [
    "intersection_node = list()\n",
    "intersection_x = list()\n",
    "intersection_y = list()\n",
    "for i in range(len(intersection)):\n",
    "    if round(R[i].X) != 0:\n",
    "        intersection_node.append(intersection[i])"
   ]
  },
  {
   "cell_type": "code",
   "execution_count": 8,
   "metadata": {},
   "outputs": [],
   "source": [
    "res = pd.DataFrame({'intersection_node':intersection_node})\n",
    "res.to_csv('无货车.csv',index=False)"
   ]
  },
  {
   "cell_type": "code",
   "execution_count": 9,
   "metadata": {},
   "outputs": [
    {
     "ename": "PermissionError",
     "evalue": "[Errno 13] Permission denied: '无货车结果(集散中心).xlsx'",
     "output_type": "error",
     "traceback": [
      "\u001b[1;31m---------------------------------------------------------------------------\u001b[0m",
      "\u001b[1;31mPermissionError\u001b[0m                           Traceback (most recent call last)",
      "\u001b[1;32m<ipython-input-9-9168f150ccbb>\u001b[0m in \u001b[0;36m<module>\u001b[1;34m\u001b[0m\n\u001b[0;32m     10\u001b[0m \u001b[0mintersection_node\u001b[0m\u001b[1;33m.\u001b[0m\u001b[0mreset_index\u001b[0m\u001b[1;33m(\u001b[0m\u001b[0mdrop\u001b[0m\u001b[1;33m=\u001b[0m\u001b[1;32mTrue\u001b[0m\u001b[1;33m,\u001b[0m \u001b[0minplace\u001b[0m\u001b[1;33m=\u001b[0m\u001b[1;32mTrue\u001b[0m\u001b[1;33m)\u001b[0m\u001b[1;33m\u001b[0m\u001b[1;33m\u001b[0m\u001b[0m\n\u001b[0;32m     11\u001b[0m \u001b[0mintersection_node\u001b[0m\u001b[1;33m.\u001b[0m\u001b[0mto_csv\u001b[0m\u001b[1;33m(\u001b[0m\u001b[1;34m'无货车结果(集散中心).csv'\u001b[0m\u001b[1;33m,\u001b[0m\u001b[0mindex\u001b[0m\u001b[1;33m=\u001b[0m\u001b[1;32mFalse\u001b[0m\u001b[1;33m)\u001b[0m\u001b[1;33m\u001b[0m\u001b[1;33m\u001b[0m\u001b[0m\n\u001b[1;32m---> 12\u001b[1;33m \u001b[0mintersection_node\u001b[0m\u001b[1;33m.\u001b[0m\u001b[0mto_excel\u001b[0m\u001b[1;33m(\u001b[0m\u001b[1;34m'无货车结果(集散中心).xlsx'\u001b[0m\u001b[1;33m,\u001b[0m\u001b[0mindex\u001b[0m\u001b[1;33m=\u001b[0m\u001b[1;32mFalse\u001b[0m\u001b[1;33m)\u001b[0m\u001b[1;33m\u001b[0m\u001b[1;33m\u001b[0m\u001b[0m\n\u001b[0m",
      "\u001b[1;32mf:\\Anaconda3\\lib\\site-packages\\pandas\\core\\generic.py\u001b[0m in \u001b[0;36mto_excel\u001b[1;34m(self, excel_writer, sheet_name, na_rep, float_format, columns, header, index, index_label, startrow, startcol, engine, merge_cells, encoding, inf_rep, verbose, freeze_panes, storage_options)\u001b[0m\n\u001b[0;32m   2343\u001b[0m             \u001b[0minf_rep\u001b[0m\u001b[1;33m=\u001b[0m\u001b[0minf_rep\u001b[0m\u001b[1;33m,\u001b[0m\u001b[1;33m\u001b[0m\u001b[1;33m\u001b[0m\u001b[0m\n\u001b[0;32m   2344\u001b[0m         )\n\u001b[1;32m-> 2345\u001b[1;33m         formatter.write(\n\u001b[0m\u001b[0;32m   2346\u001b[0m             \u001b[0mexcel_writer\u001b[0m\u001b[1;33m,\u001b[0m\u001b[1;33m\u001b[0m\u001b[1;33m\u001b[0m\u001b[0m\n\u001b[0;32m   2347\u001b[0m             \u001b[0msheet_name\u001b[0m\u001b[1;33m=\u001b[0m\u001b[0msheet_name\u001b[0m\u001b[1;33m,\u001b[0m\u001b[1;33m\u001b[0m\u001b[1;33m\u001b[0m\u001b[0m\n",
      "\u001b[1;32mf:\\Anaconda3\\lib\\site-packages\\pandas\\io\\formats\\excel.py\u001b[0m in \u001b[0;36mwrite\u001b[1;34m(self, writer, sheet_name, startrow, startcol, freeze_panes, engine, storage_options)\u001b[0m\n\u001b[0;32m    886\u001b[0m             \u001b[1;31m# error: Cannot instantiate abstract class 'ExcelWriter' with abstract\u001b[0m\u001b[1;33m\u001b[0m\u001b[1;33m\u001b[0m\u001b[1;33m\u001b[0m\u001b[0m\n\u001b[0;32m    887\u001b[0m             \u001b[1;31m# attributes 'engine', 'save', 'supported_extensions' and 'write_cells'\u001b[0m\u001b[1;33m\u001b[0m\u001b[1;33m\u001b[0m\u001b[1;33m\u001b[0m\u001b[0m\n\u001b[1;32m--> 888\u001b[1;33m             writer = ExcelWriter(  # type: ignore[abstract]\n\u001b[0m\u001b[0;32m    889\u001b[0m                 \u001b[0mwriter\u001b[0m\u001b[1;33m,\u001b[0m \u001b[0mengine\u001b[0m\u001b[1;33m=\u001b[0m\u001b[0mengine\u001b[0m\u001b[1;33m,\u001b[0m \u001b[0mstorage_options\u001b[0m\u001b[1;33m=\u001b[0m\u001b[0mstorage_options\u001b[0m\u001b[1;33m\u001b[0m\u001b[1;33m\u001b[0m\u001b[0m\n\u001b[0;32m    890\u001b[0m             )\n",
      "\u001b[1;32mf:\\Anaconda3\\lib\\site-packages\\pandas\\io\\excel\\_xlsxwriter.py\u001b[0m in \u001b[0;36m__init__\u001b[1;34m(self, path, engine, date_format, datetime_format, mode, storage_options, if_sheet_exists, engine_kwargs, **kwargs)\u001b[0m\n\u001b[0;32m    189\u001b[0m             \u001b[1;32mraise\u001b[0m \u001b[0mValueError\u001b[0m\u001b[1;33m(\u001b[0m\u001b[1;34m\"Append mode is not supported with xlsxwriter!\"\u001b[0m\u001b[1;33m)\u001b[0m\u001b[1;33m\u001b[0m\u001b[1;33m\u001b[0m\u001b[0m\n\u001b[0;32m    190\u001b[0m \u001b[1;33m\u001b[0m\u001b[0m\n\u001b[1;32m--> 191\u001b[1;33m         super().__init__(\n\u001b[0m\u001b[0;32m    192\u001b[0m             \u001b[0mpath\u001b[0m\u001b[1;33m,\u001b[0m\u001b[1;33m\u001b[0m\u001b[1;33m\u001b[0m\u001b[0m\n\u001b[0;32m    193\u001b[0m             \u001b[0mengine\u001b[0m\u001b[1;33m=\u001b[0m\u001b[0mengine\u001b[0m\u001b[1;33m,\u001b[0m\u001b[1;33m\u001b[0m\u001b[1;33m\u001b[0m\u001b[0m\n",
      "\u001b[1;32mf:\\Anaconda3\\lib\\site-packages\\pandas\\io\\excel\\_base.py\u001b[0m in \u001b[0;36m__init__\u001b[1;34m(self, path, engine, date_format, datetime_format, mode, storage_options, if_sheet_exists, engine_kwargs, **kwargs)\u001b[0m\n\u001b[0;32m   1104\u001b[0m         )\n\u001b[0;32m   1105\u001b[0m         \u001b[1;32mif\u001b[0m \u001b[1;32mnot\u001b[0m \u001b[0misinstance\u001b[0m\u001b[1;33m(\u001b[0m\u001b[0mpath\u001b[0m\u001b[1;33m,\u001b[0m \u001b[0mExcelWriter\u001b[0m\u001b[1;33m)\u001b[0m\u001b[1;33m:\u001b[0m\u001b[1;33m\u001b[0m\u001b[1;33m\u001b[0m\u001b[0m\n\u001b[1;32m-> 1106\u001b[1;33m             self.handles = get_handle(\n\u001b[0m\u001b[0;32m   1107\u001b[0m                 \u001b[0mpath\u001b[0m\u001b[1;33m,\u001b[0m \u001b[0mmode\u001b[0m\u001b[1;33m,\u001b[0m \u001b[0mstorage_options\u001b[0m\u001b[1;33m=\u001b[0m\u001b[0mstorage_options\u001b[0m\u001b[1;33m,\u001b[0m \u001b[0mis_text\u001b[0m\u001b[1;33m=\u001b[0m\u001b[1;32mFalse\u001b[0m\u001b[1;33m\u001b[0m\u001b[1;33m\u001b[0m\u001b[0m\n\u001b[0;32m   1108\u001b[0m             )\n",
      "\u001b[1;32mf:\\Anaconda3\\lib\\site-packages\\pandas\\io\\common.py\u001b[0m in \u001b[0;36mget_handle\u001b[1;34m(path_or_buf, mode, encoding, compression, memory_map, is_text, errors, storage_options)\u001b[0m\n\u001b[0;32m    796\u001b[0m         \u001b[1;32melse\u001b[0m\u001b[1;33m:\u001b[0m\u001b[1;33m\u001b[0m\u001b[1;33m\u001b[0m\u001b[0m\n\u001b[0;32m    797\u001b[0m             \u001b[1;31m# Binary mode\u001b[0m\u001b[1;33m\u001b[0m\u001b[1;33m\u001b[0m\u001b[1;33m\u001b[0m\u001b[0m\n\u001b[1;32m--> 798\u001b[1;33m             \u001b[0mhandle\u001b[0m \u001b[1;33m=\u001b[0m \u001b[0mopen\u001b[0m\u001b[1;33m(\u001b[0m\u001b[0mhandle\u001b[0m\u001b[1;33m,\u001b[0m \u001b[0mioargs\u001b[0m\u001b[1;33m.\u001b[0m\u001b[0mmode\u001b[0m\u001b[1;33m)\u001b[0m\u001b[1;33m\u001b[0m\u001b[1;33m\u001b[0m\u001b[0m\n\u001b[0m\u001b[0;32m    799\u001b[0m         \u001b[0mhandles\u001b[0m\u001b[1;33m.\u001b[0m\u001b[0mappend\u001b[0m\u001b[1;33m(\u001b[0m\u001b[0mhandle\u001b[0m\u001b[1;33m)\u001b[0m\u001b[1;33m\u001b[0m\u001b[1;33m\u001b[0m\u001b[0m\n\u001b[0;32m    800\u001b[0m \u001b[1;33m\u001b[0m\u001b[0m\n",
      "\u001b[1;31mPermissionError\u001b[0m: [Errno 13] Permission denied: '无货车结果(集散中心).xlsx'"
     ]
    }
   ],
   "source": [
    "import pandas as pd\n",
    "old_data = pd.read_excel('Data\\intersection_node.xlsx')\n",
    "intersection_node = pd.read_csv('无货车.csv')['intersection_node']\n",
    "intersection_node = pd.merge(intersection_node,old_data,left_on='intersection_node',right_on='节点编号',\n",
    "                             how='inner')[['节点编号','路口横坐标','路口纵坐标']]\n",
    "areas = pd.read_csv('TempResult\\社区路口连接数据.csv')\n",
    "intersection_node = pd.merge(intersection_node,areas,left_on='节点编号',right_on='最近路口节点',how='inner')\n",
    "intersection_node = intersection_node[['节点编号','路口横坐标','路口纵坐标','所属区域']]\n",
    "intersection_node.drop_duplicates(subset=['节点编号'], keep='first', inplace=True)\n",
    "intersection_node.reset_index(drop=True, inplace=True)\n",
    "intersection_node.to_csv('无货车结果(集散中心).csv',index=False)\n",
    "intersection_node.to_excel('无货车结果(集散中心).xlsx',index=False)"
   ]
  },
  {
   "cell_type": "code",
   "execution_count": null,
   "metadata": {},
   "outputs": [],
   "source": [
    "groups = intersection_node.groupby(['所属区域'])\n",
    "areas=list()\n",
    "center_x = list()\n",
    "center_y = list()\n",
    "for i in groups:\n",
    "    ar,group_data = i\n",
    "    areas.append(ar)\n",
    "    center_x.append(group_data['路口横坐标'].mean())\n",
    "    center_y.append(group_data['路口纵坐标'].mean())\n",
    "cangku = pd.DataFrame({\n",
    "    '节点编号':[i+1 for i in range(len(areas))],\n",
    "    '区域':areas,\n",
    "    '仓库中心横坐标':center_x,\n",
    "    '仓库中心纵坐标':center_y\n",
    "})\n",
    "cangku.to_csv('无货车结果(仓库).csv',index=False)\n",
    "cangku.to_excel('无货车结果(仓库).xlsx',index=False)"
   ]
  },
  {
   "cell_type": "code",
   "execution_count": null,
   "metadata": {},
   "outputs": [],
   "source": [
    "from Solution import *\n",
    "solve = Solution() \n",
    "solve.draw_solution()"
   ]
  },
  {
   "cell_type": "code",
   "execution_count": 11,
   "metadata": {},
   "outputs": [
    {
     "data": {
      "text/plain": [
       "[<matplotlib.lines.Line2D at 0x216b35b5a30>]"
      ]
     },
     "execution_count": 11,
     "metadata": {},
     "output_type": "execute_result"
    },
    {
     "data": {
      "image/png": "[encoded data removed]",
      "text/plain": [
       "<Figure size 432x288 with 1 Axes>"
      ]
     },
     "metadata": {},
     "output_type": "display_data"
    }
   ],
   "source": [
    "loss = [17281,16928,66,12,10.5,10.3,9.43,8.83,8.58,8.21,7.72,5.82,5.04,3.06,1.14]\n",
    "plt.plot(loss)"
   ]
  }
 ],
 "metadata": {
  "kernelspec": {
   "display_name": "Python 3.8.3 ('base')",
   "language": "python",
   "name": "python3"
  },
  "language_info": {
   "codemirror_mode": {
    "name": "ipython",
    "version": 3
   },
   "file_extension": ".py",
   "mimetype": "text/x-python",
   "name": "python",
   "nbconvert_exporter": "python",
   "pygments_lexer": "ipython3",
   "version": "3.8.3"
  },
  "orig_nbformat": 4,
  "vscode": {
   "interpreter": {
    "hash": "d12a6980af1de3549060b7b451d48d445ec6b4aaeaf0b0e12a509d2182e95745"
   }
  }
 },
 "nbformat": 4,
 "nbformat_minor": 2
}
