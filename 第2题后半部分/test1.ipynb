{
 "cells": [
  {
   "cell_type": "code",
   "execution_count": null,
   "metadata": {},
   "outputs": [],
   "source": [
    "import gurobipy as gb\n",
    "from numpy import linalg as LA\n",
    "import pandas as pd\n",
    "import numpy as np\n",
    "import matplotlib.pyplot as plt\n",
    "# from PositionSelector import *\n"
   ]
  },
  {
   "cell_type": "code",
   "execution_count": null,
   "metadata": {},
   "outputs": [],
   "source": [
    "\"\"\"71个分拣中心的坐标\"\"\"\n",
    "number_sort = 71\n",
    "sorting_index = 100 * \\\n",
    "    np.random.RandomState(152).random(size=(number_sort, 2))  # 分拣中心的坐标\n"
   ]
  },
  {
   "cell_type": "code",
   "execution_count": null,
   "metadata": {},
   "outputs": [],
   "source": [
    "\"\"\"计算路径并且确认\"\"\"\n",
    "chengben  = list()\n",
    "for xun in range(20):\n",
    "    xiaoqu = pd.read_csv('Temp\\XiaoQu_Cluster.csv')\n",
    "    p = xiaoqu['需求'].tolist()\n",
    "    q = 0.2\n",
    "    v = 100000 * 0.4\n",
    "    xiaoqu_index = np.array(xiaoqu[['横坐标', '纵坐标']])\n",
    "    distance = list()\n",
    "    for i in range(sorting_index.shape[0]):\n",
    "        sorting_i = np.array([sorting_index[i]])\n",
    "        res = LA.norm(np.array([sorting_i[:, 0] - xiaoqu_index[:, 0], sorting_i[:, 1] - xiaoqu_index[:, 1]]), axis=0)\n",
    "        distance.append(res.tolist())\n",
    "    distance = np.array(distance)*0.32  # 比例尺问题\n",
    "    model = gb.Model()\n",
    "    w = model.addVars(number_sort, 1409, lb=0.0, ub=40000,\n",
    "                    vtype=gb.GRB.CONTINUOUS, name='w')  # 添加变量\n",
    "    model.setObjective(gb.quicksum(w[i, j] * distance[i, j] * q for i in range(number_sort)\n",
    "                                for j in range(1409)), gb.GRB.MINIMIZE)  # 添加目标函数\n",
    "    model.addConstrs(w.sum('*', j) == p[j] for j in range(1409))\n",
    "    model.addConstrs(w.sum(i, '*') <= v for i in range(number_sort))\n",
    "    model.Params.LogToConsole = True  # 显示求解过程\n",
    "    model.Params.TimeLimit = 100  # 限制求解时间为 100s\n",
    "    model.optimize()\n",
    "    cost = model.objVal\n",
    "    \"\"\"更新坐标\"\"\"\n",
    "    for i in range(number_sort):\n",
    "        sorting_index[i, 0] = (sum(w[i, j].X * q * xiaoqu_index[j, 0]/distance[i, j] for j in range(\n",
    "            1409))+0.0000001) / (sum(w[i, j].X * q / distance[i, j] for j in range(1409))+0.0000001) + 0.1*np.random.RandomState(152).random()\n",
    "        sorting_index[i, 1] = (sum(w[i, j].X * q * xiaoqu_index[j, 1]/distance[i, j] for j in range(\n",
    "            1409))+0.0000001) / (sum(w[i, j].X * q / distance[i, j] for j in range(1409))+0.000001) + 0.1*np.random.RandomState(152).random()\n",
    "    chengben.append(cost)\n",
    "print(\"总花费为\",cost)\n"
   ]
  },
  {
   "cell_type": "code",
   "execution_count": null,
   "metadata": {},
   "outputs": [],
   "source": [
    "plt.plot(chengben)"
   ]
  },
  {
   "cell_type": "code",
   "execution_count": null,
   "metadata": {},
   "outputs": [],
   "source": [
    "all_renkou = pd.read_csv('Temp\\XiaoQu_Cluster.csv')['小区人口数'].tolist()\n",
    "all_xuqiu = pd.read_csv('Temp\\XiaoQu_Cluster.csv')['需求'].tolist()\n",
    "all_quyu = pd.read_csv('Temp\\XiaoQu_Cluster.csv')['所属区域'].tolist()\n",
    "give_plan = list()\n",
    "row_index = list()\n",
    "column_index = list()\n",
    "distance_plan = list()\n",
    "Population = list()\n",
    "area = list()\n",
    "for i in range(number_sort):\n",
    "    give = sum(w[i,j].X for j in range(1409))\n",
    "    if give!=0:\n",
    "        row_index.append(sorting_index[i,0])\n",
    "        column_index.append(sorting_index[i,1])\n",
    "        give_plan.append([w[i,j].X for j in range(1409)])\n",
    "        distance_plan.append([distance[i,j] for j in range(1409)])\n",
    "give_plan = np.array(give_plan)\n",
    "distance_plan = np.array(distance_plan)\n",
    "xiaoqugeshu = list()\n",
    "xuanzhibanjing = list()\n",
    "for i in range(39):\n",
    "    count = 0\n",
    "    banjing = list()\n",
    "    renkou = list()\n",
    "    quyu = list()\n",
    "    for j in range(1409):\n",
    "        give = give_plan[i, j]\n",
    "        if give != 0:\n",
    "            count += 1\n",
    "            banjing.append(distance_plan[i, j])\n",
    "            renkou.append(all_renkou[j]*give/all_xuqiu[j])\n",
    "            quyu.append(all_quyu[j])\n",
    "    xiaoqugeshu.append(count)\n",
    "    xuanzhibanjing.append(max(banjing))\n",
    "    Population.append(int(sum(renkou)))\n",
    "    area.append(max(set(quyu), key=quyu.count))\n"
   ]
  },
  {
   "cell_type": "code",
   "execution_count": null,
   "metadata": {},
   "outputs": [],
   "source": [
    "result = pd.DataFrame({\n",
    "    '横坐标':row_index,\n",
    "    '纵坐标':column_index,\n",
    "    '选址半径(km)':xuanzhibanjing,\n",
    "    '辖区小区数':xiaoqugeshu,\n",
    "    '辖区内人口数':Population,\n",
    "    '所在区域':area\n",
    "})\n",
    "result.to_csv('Result/物资分发中心坐标.csv',index=False)\n",
    "result.to_excel('Result/物资分发中心坐标.xlsx', index=False)"
   ]
  }
 ],
 "metadata": {
  "kernelspec": {
   "display_name": "Python 3.8.3 ('base')",
   "language": "python",
   "name": "python3"
  },
  "language_info": {
   "codemirror_mode": {
    "name": "ipython",
    "version": 3
   },
   "file_extension": ".py",
   "mimetype": "text/x-python",
   "name": "python",
   "nbconvert_exporter": "python",
   "pygments_lexer": "ipython3",
   "version": "3.8.3"
  },
  "orig_nbformat": 4,
  "vscode": {
   "interpreter": {
    "hash": "d12a6980af1de3549060b7b451d48d445ec6b4aaeaf0b0e12a509d2182e95745"
   }
  }
 },
 "nbformat": 4,
 "nbformat_minor": 2
}
